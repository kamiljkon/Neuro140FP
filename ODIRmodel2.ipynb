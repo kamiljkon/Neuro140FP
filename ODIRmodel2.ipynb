{
 "cells": [
  {
   "cell_type": "code",
   "execution_count": 1,
   "metadata": {},
   "outputs": [],
   "source": [
    "from torch import nn\n",
    "import torch\n",
    "import os\n",
    "import pandas as pd\n",
    "import tqdm\n"
   ]
  },
  {
   "cell_type": "code",
   "execution_count": 2,
   "metadata": {},
   "outputs": [
    {
     "name": "stdout",
     "output_type": "stream",
     "text": [
      "Scanning through the labels file...\n"
     ]
    },
    {
     "name": "stderr",
     "output_type": "stream",
     "text": [
      "100%|██████████| 3500/3500 [00:00<00:00, 165373.77it/s]\n"
     ]
    },
    {
     "name": "stdout",
     "output_type": "stream",
     "text": [
      "\n",
      "Length of the corrected dataset: 3098\n",
      "\n",
      "Deleting the corrupted images...\n"
     ]
    },
    {
     "name": "stderr",
     "output_type": "stream",
     "text": [
      "100%|██████████| 3099/3099 [00:00<00:00, 39233.77it/s]\n"
     ]
    }
   ],
   "source": [
    "### CLEANING UP THE DATASET BY REMOVING RETINAL FUNDUS IMAGES FEATURING DISEASES\n",
    "import os\n",
    "import pandas as pd\n",
    "import tqdm\n",
    "\n",
    "damaged_images = []\n",
    "\n",
    "print(\"Scanning through the labels file...\")\n",
    "labels = pd.read_excel(\"ODIR/labels.xlsx\")\n",
    "for i in tqdm.tqdm(range(len(labels[\"ID\"]))):\n",
    "    if \"normal fundus\" not in labels[\"Left-Diagnostic Keywords\"][i]:\n",
    "        damaged_images.append(labels[\"Left-Fundus\"][i])\n",
    "    if \"normal fundus\" not in labels[\"Right-Diagnostic Keywords\"][i]:\n",
    "        damaged_images.append(labels[\"Right-Fundus\"][i])\n",
    "\n",
    "print(f\"\\nLength of the corrected dataset: {len(labels['ID']+1)*2 - len(damaged_images)}\")\n",
    "\n",
    "print(f\"\\nDeleting the corrupted images...\")\n",
    "dir = os.listdir(\"ODIR/images\")\n",
    "i = 0\n",
    "for file in tqdm.tqdm(dir):\n",
    "    if file in damaged_images:\n",
    "        os.remove(f\"ODIR/images/{file}\")\n"
   ]
  },
  {
   "cell_type": "code",
   "execution_count": 2,
   "metadata": {},
   "outputs": [],
   "source": [
    "### HIDDEN FILES\n",
    "import shutil\n",
    "\n",
    "directory = \"ODIR/newimages\"\n",
    "files = os.listdir(directory)\n",
    "for file in files:\n",
    "    path = os.path.join(directory, file)\n",
    "    if file.startswith('.'):\n",
    "        if os.path.isdir(path):\n",
    "            shutil.rmtree(path)  # Removes directories and their contents\n",
    "            print(f\"Directory {file} removed from directory.\")\n",
    "        else:\n",
    "            os.remove(path)  # Removes files\n",
    "            print(f\"File {file} removed from directory.\")"
   ]
  },
  {
   "cell_type": "code",
   "execution_count": 4,
   "metadata": {},
   "outputs": [
    {
     "name": "stderr",
     "output_type": "stream",
     "text": [
      "100%|██████████| 3099/3099 [00:01<00:00, 2511.83it/s]\n"
     ]
    }
   ],
   "source": [
    "## RENAMING FILES TO FEATURE LABEL\n",
    "dir = os.listdir(\"ODIR/images/\")\n",
    "\n",
    "for file in tqdm.tqdm(dir):\n",
    "   if \"name\" or \"female\" not in file:\n",
    "        matched_rows = labels[(labels[\"Left-Fundus\"] == file) | (labels[\"Right-Fundus\"] == file)]\n",
    "        if not matched_rows.empty:\n",
    "            for index, row in matched_rows.iterrows():\n",
    "                sex = row[\"Patient Sex\"]\n",
    "                os.rename(file, f'{sex}_{file}')"
   ]
  },
  {
   "cell_type": "code",
   "execution_count": 7,
   "metadata": {},
   "outputs": [],
   "source": [
    "### CROPPING FILES TO CENTER AROUND THE RETINA\n",
    "# Warning: when running this box, current directory must be the the Neuro140FP dir.\n",
    "import cv2\n",
    "import numpy as np\n",
    "from tqdm import tqdm\n",
    "\n",
    "def preprocess_image_color(image_path, output_size=(300, 300)):\n",
    "    image = cv2.imread(image_path)\n",
    "    if image is None:\n",
    "        raise FileNotFoundError(f\"The specified image was not found or could not be read: {image_path}\")\n",
    "    \n",
    "    hsv_image = cv2.cvtColor(image, cv2.COLOR_BGR2HSV)\n",
    "    lower_bound = np.array([0, 0, 50])  # low saturation, medium value\n",
    "    upper_bound = np.array([180, 255, 255])  # Full hue range, high saturation, high value\n",
    "\n",
    "    mask = cv2.inRange(hsv_image, lower_bound, upper_bound)\n",
    "    contours, _ = cv2.findContours(mask, cv2.RETR_EXTERNAL, cv2.CHAIN_APPROX_SIMPLE)\n",
    "    if contours:\n",
    "        largest_contour = max(contours, key=cv2.contourArea)\n",
    "        x, y, w, h = cv2.boundingRect(largest_contour)\n",
    "        cropped_image = image[y:y+h, x:x+w]\n",
    "        resized_image = cv2.resize(cropped_image, output_size, interpolation=cv2.INTER_AREA)\n",
    "        return resized_image\n",
    "    else:\n",
    "        return cv2.resize(image, output_size, interpolation=cv2.INTER_AREA)\n",
    "\n",
    "if len(os.listdir(\"ODIR/newimages\")) != len(os.listdir(\"ODIR/images\")):\n",
    "    files = os.listdir(\"ODIR/images\")\n",
    "    for file in tqdm(files):\n",
    "        processed_image = preprocess_image_color(f\"ODIR/images/{file}\")\n",
    "        if not os.path.exists('ODIR/newimages/'):\n",
    "            os.makedirs('ODIR/newimages/')\n",
    "        cv2.imwrite(f'ODIR/newimages/{file}', processed_image)\n"
   ]
  },
  {
   "cell_type": "code",
   "execution_count": 8,
   "metadata": {},
   "outputs": [],
   "source": [
    "## CREATING TRAIN AND VAL DIRECTORIES\n",
    "source_dir = 'ODIR/'\n",
    "train_dir = os.path.join(source_dir, 'train')\n",
    "val_dir = os.path.join(source_dir, 'val')\n",
    "os.makedirs(train_dir, exist_ok=True)\n",
    "os.makedirs(val_dir, exist_ok=True)"
   ]
  },
  {
   "cell_type": "code",
   "execution_count": 9,
   "metadata": {},
   "outputs": [],
   "source": [
    "## MOVING INTO TRAIN AND VAL DIRECTORIES\n",
    "from sklearn.model_selection import train_test_split\n",
    "\n",
    "img_dir = 'ODIR/newimages'\n",
    "files = [f for f in os.listdir(img_dir) if f.endswith('.jpg')]\n",
    "train_files, val_files = train_test_split(files, test_size=0.2, random_state=42)\n",
    "def move_files(files, dest):\n",
    "    for f in files:\n",
    "        shutil.move(os.path.join(img_dir, f), os.path.join(dest, f))\n",
    "\n",
    "move_files(train_files, train_dir)\n",
    "move_files(val_files, val_dir)"
   ]
  },
  {
   "cell_type": "code",
   "execution_count": 6,
   "metadata": {},
   "outputs": [],
   "source": [
    "from odir_dataset import ODIRDataset"
   ]
  },
  {
   "cell_type": "code",
   "execution_count": 7,
   "metadata": {},
   "outputs": [],
   "source": [
    "### TRANSFORMS\n",
    "import torch\n",
    "from torchvision.transforms import v2\n",
    "\n",
    "train_transforms = v2.Compose([\n",
    "    v2.Resize(size=(300, 300)),\n",
    "    v2.ToTensor(),\n",
    "    v2.Normalize(mean=[0.2, 0.2, 0.2], std=[0.229, 0.224, 0.225])\n",
    "])\n",
    "\n",
    "val_transforms = v2.Compose([\n",
    "    v2.Resize(size=(300, 300)),\n",
    "    v2.ToTensor()\n",
    "])"
   ]
  },
  {
   "cell_type": "code",
   "execution_count": 14,
   "metadata": {},
   "outputs": [
    {
     "name": "stdout",
     "output_type": "stream",
     "text": [
      "Target directory: /Users/kamilkon/Desktop/Neuro140FP/ODIR/train\n"
     ]
    },
    {
     "ename": "AttributeError",
     "evalue": "'ODIRDataset' object has no attribute 'targ_dir'",
     "output_type": "error",
     "traceback": [
      "\u001b[0;31m---------------------------------------------------------------------------\u001b[0m",
      "\u001b[0;31mAttributeError\u001b[0m                            Traceback (most recent call last)",
      "Cell \u001b[0;32mIn[14], line 1\u001b[0m\n\u001b[0;32m----> 1\u001b[0m train_data \u001b[38;5;241m=\u001b[39m \u001b[43mODIRDataset\u001b[49m\u001b[43m(\u001b[49m\u001b[43mtarg_dir\u001b[49m\u001b[38;5;241;43m=\u001b[39;49m\u001b[38;5;124;43m\"\u001b[39;49m\u001b[38;5;124;43mODIR/train\u001b[39;49m\u001b[38;5;124;43m\"\u001b[39;49m\u001b[43m,\u001b[49m\n\u001b[1;32m      2\u001b[0m \u001b[43m                         \u001b[49m\u001b[43mtransform\u001b[49m\u001b[38;5;241;43m=\u001b[39;49m\u001b[43mtrain_transforms\u001b[49m\u001b[43m)\u001b[49m\n\u001b[1;32m      3\u001b[0m val_data \u001b[38;5;241m=\u001b[39m ODIRDataset(targ_dir\u001b[38;5;241m=\u001b[39m\u001b[38;5;124m\"\u001b[39m\u001b[38;5;124mODIR/val\u001b[39m\u001b[38;5;124m\"\u001b[39m,\n\u001b[1;32m      4\u001b[0m                        transform\u001b[38;5;241m=\u001b[39mval_transforms)\n",
      "File \u001b[0;32m~/Desktop/Neuro140FP/odir_dataset.py:25\u001b[0m, in \u001b[0;36mODIRDataset.__init__\u001b[0;34m(self, targ_dir, transform)\u001b[0m\n\u001b[1;32m     21\u001b[0m \u001b[38;5;28;01mdef\u001b[39;00m \u001b[38;5;21m__init__\u001b[39m(\u001b[38;5;28mself\u001b[39m,\n\u001b[1;32m     22\u001b[0m              targ_dir: \u001b[38;5;28mstr\u001b[39m,\n\u001b[1;32m     23\u001b[0m              transform\u001b[38;5;241m=\u001b[39m\u001b[38;5;28;01mNone\u001b[39;00m):\n\u001b[1;32m     24\u001b[0m     \u001b[38;5;28mself\u001b[39m\u001b[38;5;241m.\u001b[39mdebug \u001b[38;5;241m=\u001b[39m \u001b[38;5;28mprint\u001b[39m(\u001b[38;5;124m\"\u001b[39m\u001b[38;5;124mTarget directory:\u001b[39m\u001b[38;5;124m\"\u001b[39m, os\u001b[38;5;241m.\u001b[39mpath\u001b[38;5;241m.\u001b[39mabspath(targ_dir))\n\u001b[0;32m---> 25\u001b[0m     \u001b[38;5;28mself\u001b[39m\u001b[38;5;241m.\u001b[39mpaths \u001b[38;5;241m=\u001b[39m [os\u001b[38;5;241m.\u001b[39mpath\u001b[38;5;241m.\u001b[39mjoin(\u001b[38;5;28mself\u001b[39m\u001b[38;5;241m.\u001b[39mtarg_dir, f) \u001b[38;5;28;01mfor\u001b[39;00m f \u001b[38;5;129;01min\u001b[39;00m os\u001b[38;5;241m.\u001b[39mlistdir(\u001b[38;5;28;43mself\u001b[39;49m\u001b[38;5;241;43m.\u001b[39;49m\u001b[43mtarg_dir\u001b[49m) \u001b[38;5;28;01mif\u001b[39;00m f\u001b[38;5;241m.\u001b[39mendswith(\u001b[38;5;124m'\u001b[39m\u001b[38;5;124m.jpg\u001b[39m\u001b[38;5;124m'\u001b[39m)]  \u001b[38;5;66;03m# Store full paths\u001b[39;00m\n\u001b[1;32m     26\u001b[0m     \u001b[38;5;28mself\u001b[39m\u001b[38;5;241m.\u001b[39mtransforms \u001b[38;5;241m=\u001b[39m transform\n\u001b[1;32m     27\u001b[0m     \u001b[38;5;28mself\u001b[39m\u001b[38;5;241m.\u001b[39mclasses, \u001b[38;5;28mself\u001b[39m\u001b[38;5;241m.\u001b[39mclass_to_idx \u001b[38;5;241m=\u001b[39m find_classes(targ_dir)\n",
      "\u001b[0;31mAttributeError\u001b[0m: 'ODIRDataset' object has no attribute 'targ_dir'"
     ]
    }
   ],
   "source": [
    "train_data = ODIRDataset(targ_dir=\"ODIR/train\",\n",
    "                         transform=train_transforms)\n",
    "val_data = ODIRDataset(targ_dir=\"ODIR/val\",\n",
    "                       transform=val_transforms)"
   ]
  },
  {
   "cell_type": "code",
   "execution_count": 12,
   "metadata": {},
   "outputs": [
    {
     "ename": "NameError",
     "evalue": "name 'train_data' is not defined",
     "output_type": "error",
     "traceback": [
      "\u001b[0;31m---------------------------------------------------------------------------\u001b[0m",
      "\u001b[0;31mNameError\u001b[0m                                 Traceback (most recent call last)",
      "Cell \u001b[0;32mIn[12], line 1\u001b[0m\n\u001b[0;32m----> 1\u001b[0m \u001b[43mtrain_data\u001b[49m\u001b[38;5;241m.\u001b[39mload_image(\u001b[38;5;241m1\u001b[39m)\n",
      "\u001b[0;31mNameError\u001b[0m: name 'train_data' is not defined"
     ]
    }
   ],
   "source": [
    "train_data.load_image(1)"
   ]
  },
  {
   "cell_type": "code",
   "execution_count": 15,
   "metadata": {},
   "outputs": [],
   "source": [
    "import matplotlib.pyplot as plt\n",
    "from typing import List\n",
    "import random\n",
    "#1. Create a function to take in a dataset\n",
    "def display_random_images(dataset: torch.utils.data.Dataset,\n",
    "                          classes: List[str] = None,\n",
    "                          n: int = 10,\n",
    "                          display_shape: bool = True,\n",
    "                          seed: int = None):\n",
    "  #2. Adjust display if n is too high\n",
    "  if n > 10:\n",
    "    n = 10\n",
    "    display_shape = False\n",
    "    print(\"For display purposes, n shouldn't be larger than 10, setting it to 10 and removing shape display\")\n",
    "\n",
    "  #3. Set the seed\n",
    "  if seed:\n",
    "    random.seed(seed)\n",
    "\n",
    "  #4. Get random sample indexes\n",
    "  random_samples_idx = random.sample(range(len(dataset)), k=n)\n",
    "\n",
    "  #5. Setup plot\n",
    "  plt.figure(figsize=(16, 8))\n",
    "\n",
    "  #6. Loop through and plot random indexes\n",
    "  for i, targ_sample in enumerate(random_samples_idx):\n",
    "    targ_image, targ_label = dataset[targ_sample][0], dataset[targ_sample][1]\n",
    "\n",
    "    #7. Adjust tensor dimensions\n",
    "    targ_image_adjust = targ_image.permute(1, 2, 0)\n",
    "\n",
    "    #8. Plot adjusted samples\n",
    "    plt.subplot(1, n, i+1)\n",
    "    plt.imshow(targ_image_adjust)\n",
    "    plt.axis(False)\n",
    "    if classes:\n",
    "      title = f\"Class: {classes[targ_label]}\"\n",
    "      if display_shape:\n",
    "        title = title + f\"\\nshape: {targ_image_adjust.shape}\"\n",
    "    plt.title(title)"
   ]
  },
  {
   "cell_type": "code",
   "execution_count": 16,
   "metadata": {},
   "outputs": [
    {
     "ename": "FileNotFoundError",
     "evalue": "[Errno 2] No such file or directory: '/Users/kamilkon/Desktop/Neuro140FP/Female_4114_right.jpg'",
     "output_type": "error",
     "traceback": [
      "\u001b[0;31m---------------------------------------------------------------------------\u001b[0m",
      "\u001b[0;31mFileNotFoundError\u001b[0m                         Traceback (most recent call last)",
      "Cell \u001b[0;32mIn[16], line 1\u001b[0m\n\u001b[0;32m----> 1\u001b[0m \u001b[43mtrain_data\u001b[49m\u001b[38;5;241;43m.\u001b[39;49m\u001b[43mload_image\u001b[49m\u001b[43m(\u001b[49m\u001b[38;5;241;43m1\u001b[39;49m\u001b[43m)\u001b[49m\n",
      "File \u001b[0;32m~/Desktop/Neuro140FP/odir_dataset.py:33\u001b[0m, in \u001b[0;36mODIRDataset.load_image\u001b[0;34m(self, index)\u001b[0m\n\u001b[1;32m     31\u001b[0m \u001b[38;5;28;01mif\u001b[39;00m os\u001b[38;5;241m.\u001b[39mpath\u001b[38;5;241m.\u001b[39misdir(image_path):\n\u001b[1;32m     32\u001b[0m     \u001b[38;5;28;01mraise\u001b[39;00m \u001b[38;5;167;01mValueError\u001b[39;00m(\u001b[38;5;124m\"\u001b[39m\u001b[38;5;124mDirectory found where an image expected: \u001b[39m\u001b[38;5;132;01m{}\u001b[39;00m\u001b[38;5;124m\"\u001b[39m\u001b[38;5;241m.\u001b[39mformat(image_path))\n\u001b[0;32m---> 33\u001b[0m \u001b[38;5;28;01mreturn\u001b[39;00m \u001b[43mImage\u001b[49m\u001b[38;5;241;43m.\u001b[39;49m\u001b[43mopen\u001b[49m\u001b[43m(\u001b[49m\u001b[43mimage_path\u001b[49m\u001b[43m)\u001b[49m\n",
      "File \u001b[0;32m~/Desktop/Neuro140FP/.venv/lib/python3.12/site-packages/PIL/Image.py:3277\u001b[0m, in \u001b[0;36mopen\u001b[0;34m(fp, mode, formats)\u001b[0m\n\u001b[1;32m   3274\u001b[0m     filename \u001b[38;5;241m=\u001b[39m os\u001b[38;5;241m.\u001b[39mpath\u001b[38;5;241m.\u001b[39mrealpath(os\u001b[38;5;241m.\u001b[39mfspath(fp))\n\u001b[1;32m   3276\u001b[0m \u001b[38;5;28;01mif\u001b[39;00m filename:\n\u001b[0;32m-> 3277\u001b[0m     fp \u001b[38;5;241m=\u001b[39m \u001b[43mbuiltins\u001b[49m\u001b[38;5;241;43m.\u001b[39;49m\u001b[43mopen\u001b[49m\u001b[43m(\u001b[49m\u001b[43mfilename\u001b[49m\u001b[43m,\u001b[49m\u001b[43m \u001b[49m\u001b[38;5;124;43m\"\u001b[39;49m\u001b[38;5;124;43mrb\u001b[39;49m\u001b[38;5;124;43m\"\u001b[39;49m\u001b[43m)\u001b[49m\n\u001b[1;32m   3278\u001b[0m     exclusive_fp \u001b[38;5;241m=\u001b[39m \u001b[38;5;28;01mTrue\u001b[39;00m\n\u001b[1;32m   3280\u001b[0m \u001b[38;5;28;01mtry\u001b[39;00m:\n",
      "\u001b[0;31mFileNotFoundError\u001b[0m: [Errno 2] No such file or directory: '/Users/kamilkon/Desktop/Neuro140FP/Female_4114_right.jpg'"
     ]
    }
   ],
   "source": [
    "train_data.load_image(1)"
   ]
  },
  {
   "cell_type": "code",
   "execution_count": 46,
   "metadata": {},
   "outputs": [
    {
     "ename": "ValueError",
     "evalue": "Directory found where an image expected: ODIR",
     "output_type": "error",
     "traceback": [
      "\u001b[0;31m---------------------------------------------------------------------------\u001b[0m",
      "\u001b[0;31mValueError\u001b[0m                                Traceback (most recent call last)",
      "Cell \u001b[0;32mIn[46], line 1\u001b[0m\n\u001b[0;32m----> 1\u001b[0m \u001b[43mdisplay_random_images\u001b[49m\u001b[43m(\u001b[49m\u001b[43mtrain_data\u001b[49m\u001b[43m,\u001b[49m\n\u001b[1;32m      2\u001b[0m \u001b[43m                      \u001b[49m\u001b[43mn\u001b[49m\u001b[38;5;241;43m=\u001b[39;49m\u001b[38;5;241;43m5\u001b[39;49m\u001b[43m,\u001b[49m\n\u001b[1;32m      3\u001b[0m \u001b[43m                      \u001b[49m\u001b[43mclasses\u001b[49m\u001b[38;5;241;43m=\u001b[39;49m\u001b[43mtrain_data\u001b[49m\u001b[38;5;241;43m.\u001b[39;49m\u001b[43mclasses\u001b[49m\u001b[43m,\u001b[49m\n\u001b[1;32m      4\u001b[0m \u001b[43m                      \u001b[49m\u001b[43mseed\u001b[49m\u001b[38;5;241;43m=\u001b[39;49m\u001b[38;5;241;43m42\u001b[39;49m\u001b[43m)\u001b[49m\n",
      "Cell \u001b[0;32mIn[42], line 28\u001b[0m, in \u001b[0;36mdisplay_random_images\u001b[0;34m(dataset, classes, n, display_shape, seed)\u001b[0m\n\u001b[1;32m     26\u001b[0m \u001b[38;5;66;03m#6. Loop through and plot random indexes\u001b[39;00m\n\u001b[1;32m     27\u001b[0m \u001b[38;5;28;01mfor\u001b[39;00m i, targ_sample \u001b[38;5;129;01min\u001b[39;00m \u001b[38;5;28menumerate\u001b[39m(random_samples_idx):\n\u001b[0;32m---> 28\u001b[0m   targ_image, targ_label \u001b[38;5;241m=\u001b[39m \u001b[43mdataset\u001b[49m\u001b[43m[\u001b[49m\u001b[43mtarg_sample\u001b[49m\u001b[43m]\u001b[49m[\u001b[38;5;241m0\u001b[39m], dataset[targ_sample][\u001b[38;5;241m1\u001b[39m]\n\u001b[1;32m     30\u001b[0m   \u001b[38;5;66;03m#7. Adjust tensor dimensions\u001b[39;00m\n\u001b[1;32m     31\u001b[0m   targ_image_adjust \u001b[38;5;241m=\u001b[39m targ_image\u001b[38;5;241m.\u001b[39mpermute(\u001b[38;5;241m1\u001b[39m, \u001b[38;5;241m2\u001b[39m, \u001b[38;5;241m0\u001b[39m)\n",
      "File \u001b[0;32m~/Desktop/Neuro140FP/odir_dataset.py:38\u001b[0m, in \u001b[0;36mODIRDataset.__getitem__\u001b[0;34m(self, index)\u001b[0m\n\u001b[1;32m     37\u001b[0m \u001b[38;5;28;01mdef\u001b[39;00m \u001b[38;5;21m__getitem__\u001b[39m(\u001b[38;5;28mself\u001b[39m, index):\n\u001b[0;32m---> 38\u001b[0m     img \u001b[38;5;241m=\u001b[39m \u001b[38;5;28;43mself\u001b[39;49m\u001b[38;5;241;43m.\u001b[39;49m\u001b[43mload_image\u001b[49m\u001b[43m(\u001b[49m\u001b[43mindex\u001b[49m\u001b[43m)\u001b[49m\n\u001b[1;32m     39\u001b[0m     class_name \u001b[38;5;241m=\u001b[39m \u001b[38;5;28mself\u001b[39m\u001b[38;5;241m.\u001b[39mpaths[index]\u001b[38;5;241m.\u001b[39msplit(\u001b[38;5;124m'\u001b[39m\u001b[38;5;124m_\u001b[39m\u001b[38;5;124m'\u001b[39m)[\u001b[38;5;241m0\u001b[39m]\n\u001b[1;32m     40\u001b[0m     class_idx \u001b[38;5;241m=\u001b[39m \u001b[38;5;28mself\u001b[39m\u001b[38;5;241m.\u001b[39mclass_to_idx[class_name]\n",
      "File \u001b[0;32m~/Desktop/Neuro140FP/odir_dataset.py:31\u001b[0m, in \u001b[0;36mODIRDataset.load_image\u001b[0;34m(self, index)\u001b[0m\n\u001b[1;32m     29\u001b[0m image_path \u001b[38;5;241m=\u001b[39m \u001b[38;5;28mself\u001b[39m\u001b[38;5;241m.\u001b[39mpaths[index]\n\u001b[1;32m     30\u001b[0m \u001b[38;5;28;01mif\u001b[39;00m os\u001b[38;5;241m.\u001b[39mpath\u001b[38;5;241m.\u001b[39misdir(image_path):\n\u001b[0;32m---> 31\u001b[0m     \u001b[38;5;28;01mraise\u001b[39;00m \u001b[38;5;167;01mValueError\u001b[39;00m(\u001b[38;5;124m\"\u001b[39m\u001b[38;5;124mDirectory found where an image expected: \u001b[39m\u001b[38;5;132;01m{}\u001b[39;00m\u001b[38;5;124m\"\u001b[39m\u001b[38;5;241m.\u001b[39mformat(image_path))\n\u001b[1;32m     32\u001b[0m \u001b[38;5;28;01mreturn\u001b[39;00m Image\u001b[38;5;241m.\u001b[39mopen(image_path)\n",
      "\u001b[0;31mValueError\u001b[0m: Directory found where an image expected: ODIR"
     ]
    },
    {
     "data": {
      "text/plain": [
       "<Figure size 1600x800 with 0 Axes>"
      ]
     },
     "metadata": {},
     "output_type": "display_data"
    }
   ],
   "source": [
    "display_random_images(train_data,\n",
    "                      n=5,\n",
    "                      classes=train_data.classes,\n",
    "                      seed=42)"
   ]
  },
  {
   "cell_type": "code",
   "execution_count": null,
   "metadata": {},
   "outputs": [],
   "source": []
  }
 ],
 "metadata": {
  "kernelspec": {
   "display_name": ".venv",
   "language": "python",
   "name": "python3"
  },
  "language_info": {
   "codemirror_mode": {
    "name": "ipython",
    "version": 3
   },
   "file_extension": ".py",
   "mimetype": "text/x-python",
   "name": "python",
   "nbconvert_exporter": "python",
   "pygments_lexer": "ipython3",
   "version": "3.12.1"
  }
 },
 "nbformat": 4,
 "nbformat_minor": 2
}
